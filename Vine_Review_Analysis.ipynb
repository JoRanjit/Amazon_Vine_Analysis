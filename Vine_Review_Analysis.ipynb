{
  "nbformat": 4,
  "nbformat_minor": 0,
  "metadata": {
    "colab": {
      "name": "Vine_Review_Analysis.ipynb",
      "provenance": [],
      "collapsed_sections": [],
      "authorship_tag": "ABX9TyNhFZmHGjmoY3l8LCRLC1Zm",
      "include_colab_link": true
    },
    "kernelspec": {
      "name": "python3",
      "display_name": "Python 3"
    },
    "language_info": {
      "name": "python"
    }
  },
  "cells": [
    {
      "cell_type": "markdown",
      "metadata": {
        "id": "view-in-github",
        "colab_type": "text"
      },
      "source": [
        "<a href=\"https://colab.research.google.com/github/JoRanjit/Amazon_Vine_Analysis/blob/main/Vine_Review_Analysis.ipynb\" target=\"_parent\"><img src=\"https://colab.research.google.com/assets/colab-badge.svg\" alt=\"Open In Colab\"/></a>"
      ]
    },
    {
      "cell_type": "code",
      "metadata": {
        "colab": {
          "base_uri": "https://localhost:8080/"
        },
        "id": "FWEmiut7u903",
        "outputId": "4ca2bb2b-4aef-47a5-9d12-9d4ad44d75a9"
      },
      "source": [
        "import os\n",
        "# Find the latest version of spark 3.0  from http://www-us.apache.org/dist/spark/ and enter as the spark version\n",
        "# For example:\n",
        "# spark_version = 'spark-3.0.2'\n",
        "spark_version = 'spark-3.0.3'\n",
        "os.environ['SPARK_VERSION']=spark_version\n",
        "# Install Spark and Java\n",
        "!apt-get update\n",
        "!apt-get install openjdk-11-jdk-headless -qq > /dev/null\n",
        "!wget -q https://downloads.apache.org/spark/{spark_version}/{spark_version}-bin-hadoop2.7.tgz\n",
        "!tar xf {spark_version}-bin-hadoop2.7.tgz\n",
        "!pip install -q findspark\n",
        "# Set Environment Variables\n",
        "os.environ[\"JAVA_HOME\"] = \"/usr/lib/jvm/java-11-openjdk-amd64\"\n",
        "os.environ[\"SPARK_HOME\"] = f\"/content/{spark_version}-bin-hadoop2.7\"\n",
        "# Start a SparkSession\n",
        "import findspark\n",
        "findspark.init()"
      ],
      "execution_count": null,
      "outputs": [
        {
          "output_type": "stream",
          "text": [
            "Get:1 https://cloud.r-project.org/bin/linux/ubuntu bionic-cran40/ InRelease [3,626 B]\n",
            "Ign:2 https://developer.download.nvidia.com/compute/cuda/repos/ubuntu1804/x86_64  InRelease\n",
            "Get:3 http://security.ubuntu.com/ubuntu bionic-security InRelease [88.7 kB]\n",
            "Ign:4 https://developer.download.nvidia.com/compute/machine-learning/repos/ubuntu1804/x86_64  InRelease\n",
            "Get:5 https://developer.download.nvidia.com/compute/cuda/repos/ubuntu1804/x86_64  Release [697 B]\n",
            "Get:6 http://ppa.launchpad.net/c2d4u.team/c2d4u4.0+/ubuntu bionic InRelease [15.9 kB]\n",
            "Hit:7 https://developer.download.nvidia.com/compute/machine-learning/repos/ubuntu1804/x86_64  Release\n",
            "Get:8 https://developer.download.nvidia.com/compute/cuda/repos/ubuntu1804/x86_64  Release.gpg [836 B]\n",
            "Get:9 https://cloud.r-project.org/bin/linux/ubuntu bionic-cran40/ Packages [66.2 kB]\n",
            "Hit:10 http://archive.ubuntu.com/ubuntu bionic InRelease\n",
            "Get:12 http://archive.ubuntu.com/ubuntu bionic-updates InRelease [88.7 kB]\n",
            "Ign:13 https://developer.download.nvidia.com/compute/cuda/repos/ubuntu1804/x86_64  Packages\n",
            "Hit:14 http://ppa.launchpad.net/cran/libgit2/ubuntu bionic InRelease\n",
            "Get:13 https://developer.download.nvidia.com/compute/cuda/repos/ubuntu1804/x86_64  Packages [695 kB]\n",
            "Get:15 http://ppa.launchpad.net/deadsnakes/ppa/ubuntu bionic InRelease [15.9 kB]\n",
            "Get:16 http://archive.ubuntu.com/ubuntu bionic-backports InRelease [74.6 kB]\n",
            "Get:17 http://security.ubuntu.com/ubuntu bionic-security/multiverse amd64 Packages [26.7 kB]\n",
            "Get:18 http://security.ubuntu.com/ubuntu bionic-security/main amd64 Packages [2,263 kB]\n",
            "Get:19 http://archive.ubuntu.com/ubuntu bionic-updates/multiverse amd64 Packages [39.4 kB]\n",
            "Get:20 http://ppa.launchpad.net/graphics-drivers/ppa/ubuntu bionic InRelease [21.3 kB]\n",
            "Get:21 http://archive.ubuntu.com/ubuntu bionic-updates/main amd64 Packages [2,699 kB]\n",
            "Get:22 http://security.ubuntu.com/ubuntu bionic-security/restricted amd64 Packages [510 kB]\n",
            "Get:23 http://security.ubuntu.com/ubuntu bionic-security/universe amd64 Packages [1,421 kB]\n",
            "Get:24 http://ppa.launchpad.net/c2d4u.team/c2d4u4.0+/ubuntu bionic/main Sources [1,790 kB]\n",
            "Get:25 http://archive.ubuntu.com/ubuntu bionic-updates/universe amd64 Packages [2,196 kB]\n",
            "Get:26 http://archive.ubuntu.com/ubuntu bionic-updates/restricted amd64 Packages [544 kB]\n",
            "Get:27 http://ppa.launchpad.net/c2d4u.team/c2d4u4.0+/ubuntu bionic/main amd64 Packages [916 kB]\n",
            "Get:28 http://ppa.launchpad.net/deadsnakes/ppa/ubuntu bionic/main amd64 Packages [40.9 kB]\n",
            "Get:29 http://ppa.launchpad.net/graphics-drivers/ppa/ubuntu bionic/main amd64 Packages [44.1 kB]\n",
            "Fetched 13.6 MB in 8s (1,638 kB/s)\n",
            "Reading package lists... Done\n"
          ],
          "name": "stdout"
        }
      ]
    },
    {
      "cell_type": "code",
      "metadata": {
        "colab": {
          "base_uri": "https://localhost:8080/"
        },
        "id": "0mGb7ZtRvtUD",
        "outputId": "dd76474b-0798-4747-c36b-330657908220"
      },
      "source": [
        "# Download the Postgres driver that will allow Spark to interact with Postgres.\n",
        "!wget https://jdbc.postgresql.org/download/postgresql-42.2.16.jar"
      ],
      "execution_count": null,
      "outputs": [
        {
          "output_type": "stream",
          "text": [
            "--2021-08-16 02:16:33--  https://jdbc.postgresql.org/download/postgresql-42.2.16.jar\n",
            "Resolving jdbc.postgresql.org (jdbc.postgresql.org)... 72.32.157.228, 2001:4800:3e1:1::228\n",
            "Connecting to jdbc.postgresql.org (jdbc.postgresql.org)|72.32.157.228|:443... connected.\n",
            "HTTP request sent, awaiting response... 200 OK\n",
            "Length: 1002883 (979K) [application/java-archive]\n",
            "Saving to: ‘postgresql-42.2.16.jar’\n",
            "\n",
            "postgresql-42.2.16. 100%[===================>] 979.38K  1.21MB/s    in 0.8s    \n",
            "\n",
            "2021-08-16 02:16:35 (1.21 MB/s) - ‘postgresql-42.2.16.jar’ saved [1002883/1002883]\n",
            "\n"
          ],
          "name": "stdout"
        }
      ]
    },
    {
      "cell_type": "code",
      "metadata": {
        "id": "xTSVG8Pevy_b"
      },
      "source": [
        "from pyspark.sql import SparkSession\n",
        "spark = SparkSession.builder.appName(\"M16-Amazon-Challenge\").config(\"spark.driver.extraClassPath\",\"/content/postgresql-42.2.16.jar\").getOrCreate()"
      ],
      "execution_count": null,
      "outputs": []
    },
    {
      "cell_type": "markdown",
      "metadata": {
        "id": "M-g2ROaEv2GG"
      },
      "source": [
        "**Load Amazon Data into Spark DataFrame**"
      ]
    },
    {
      "cell_type": "code",
      "metadata": {
        "colab": {
          "base_uri": "https://localhost:8080/"
        },
        "id": "xpFn_HulwAEY",
        "outputId": "17a3af4c-cfd7-4b9a-b9e9-00d07154c46f"
      },
      "source": [
        "from pyspark import SparkFiles\n",
        "url = \"https://s3.amazonaws.com/amazon-reviews-pds/tsv/amazon_reviews_us_Furniture_v1_00.tsv.gz\"\n",
        "spark.sparkContext.addFile(url)\n",
        "df = spark.read.option(\"encoding\", \"UTF-8\").csv(SparkFiles.get(\"amazon_reviews_us_Furniture_v1_00.tsv.gz\"), sep=\"\\t\", header=True, inferSchema=True)\n",
        "df.show()"
      ],
      "execution_count": null,
      "outputs": [
        {
          "output_type": "stream",
          "text": [
            "+-----------+-----------+--------------+----------+--------------+--------------------+----------------+-----------+-------------+-----------+----+-----------------+--------------------+--------------------+-----------+\n",
            "|marketplace|customer_id|     review_id|product_id|product_parent|       product_title|product_category|star_rating|helpful_votes|total_votes|vine|verified_purchase|     review_headline|         review_body|review_date|\n",
            "+-----------+-----------+--------------+----------+--------------+--------------------+----------------+-----------+-------------+-----------+----+-----------------+--------------------+--------------------+-----------+\n",
            "|         US|   24509695|R3VR960AHLFKDV|B004HB5E0E|     488241329|Shoal Creek Compu...|       Furniture|          4|            0|          0|   N|                Y|... desk is very ...|This desk is very...| 2015-08-31|\n",
            "|         US|   34731776|R16LGVMFKIUT0G|B0042TNMMS|     205864445|Dorel Home Produc...|       Furniture|          5|            0|          0|   N|                Y|          Five Stars|          Great item| 2015-08-31|\n",
            "|         US|    1272331|R1AIMEEPYHMOE4|B0030MPBZ4|     124663823|Bathroom Vanity T...|       Furniture|          5|            1|          1|   N|                Y|          Five Stars|Perfect fit for m...| 2015-08-31|\n",
            "|         US|   45284262|R1892CCSZWZ9SR|B005G02ESA|     382367578|Sleep Master Ulti...|       Furniture|          3|            0|          0|   N|                Y|         Good enough|We use this on a ...| 2015-08-31|\n",
            "|         US|   30003523|R285P679YWVKD1|B005JS8AUA|     309497463|1 1/4\" GashGuards...|       Furniture|          3|            0|          0|   N|                N|Gash Gards for da...|The product is fi...| 2015-08-31|\n",
            "|         US|   18311821| RLB33HJBXHZHU|B00AVUQQGQ|     574537906|Serta Bonded Leat...|       Furniture|          5|            0|          0|   N|                Y|          Five Stars|Love this product...| 2015-08-31|\n",
            "|         US|   42943632|R1VGTZ94DBAD6A|B00CFY20GQ|     407473883|Prepac Shoe Stora...|       Furniture|          5|            2|          2|   N|                Y|   I love this bench|I love this bench...| 2015-08-31|\n",
            "|         US|   43157304|R168KF82ICSOHD|B00FKC48QA|     435120460|HomCom PU Leather...|       Furniture|          5|            0|          0|   N|                Y|Great storage cap...|Have had this for...| 2015-08-31|\n",
            "|         US|   51918480|R20DIYIJ0OCMOG|B00N9IAL9K|     356495985|  Folding Step Stool|       Furniture|          5|            0|          0|   N|                Y|This is the best ...|This is the best ...| 2015-08-31|\n",
            "|         US|   14522766| RD46RNVOHNZSC|B001T4XU1C|     243050228|Ace Bayou Adult V...|       Furniture|          5|            0|          0|   N|                Y|    great for price!|    my son loves it!| 2015-08-31|\n",
            "|         US|   43054112|R2JDOCETTM3AXS|B002HRFLBC|      93574483|4D Concepts Audio...|       Furniture|          5|            0|          0|   N|                Y|          Five Stars|       Great product| 2015-08-31|\n",
            "|         US|   26622950|R33YMW36IDZ6LE|B006MISZOC|     941823468|Zinus SC-SBBK-14N...|       Furniture|          5|            0|          0|   N|                Y|             perfect|bought with sleep...| 2015-08-31|\n",
            "|         US|   17988940|R30ZGGUHZ04C1S|B008BMGABC|     460567746|Poundex Marble Di...|       Furniture|          5|            1|          1|   N|                Y|   Very satisfied!!!|Delivery was on t...| 2015-08-31|\n",
            "|         US|   18444952| RS2EZU76IK2BT|B00CO2VH5Y|     829613894|Safavieh Lyndhurs...|       Furniture|          5|            0|          0|   N|                Y|soft and great fo...|Exactly as pictur...| 2015-08-31|\n",
            "|         US|   16937084|R1GJC1BP028XO9|B00LI4RJQ0|     816478187|Sauder Boone Moun...|       Furniture|          5|            2|          3|   N|                Y|        Great table.|Beautiful table. ...| 2015-08-31|\n",
            "|         US|   23665632|R2VKJPGXXEK5GP|B0046EC1D0|     358594389|Winsome Wood Brea...|       Furniture|          1|            0|          0|   N|                Y|Not what I expect...|I have cleaned up...| 2015-08-31|\n",
            "|         US|    4110125|R17KS83G3KLT97|B00DQQPL36|     312571325|HODEDAH IMPORT Me...|       Furniture|          3|            0|          0|   N|                Y|         Three Stars|First one came in...| 2015-08-31|\n",
            "|         US|     107621|R3PQL8SR4NEHWL|B003X7RWB2|     402665054|Flash Furniture H...|       Furniture|          4|            0|          0|   N|                Y|          Four Stars|Good deal to get ...| 2015-08-31|\n",
            "|         US|    2415090|R2F5WW7WNO5RRG|B001TJYPJ8|     854989315|Sleep Revolution ...|       Furniture|          5|            0|          0|   N|                Y|          Five Stars|Comfortable and e...| 2015-08-31|\n",
            "|         US|   48285966|R3UDJKVWQCFIC9|B000TMHX9A|     814079288|Flash Furniture V...|       Furniture|          5|            0|          0|   N|                Y|Very comfortable....|As advertised. Ve...| 2015-08-31|\n",
            "+-----------+-----------+--------------+----------+--------------+--------------------+----------------+-----------+-------------+-----------+----+-----------------+--------------------+--------------------+-----------+\n",
            "only showing top 20 rows\n",
            "\n"
          ],
          "name": "stdout"
        }
      ]
    },
    {
      "cell_type": "markdown",
      "metadata": {
        "id": "zhhQQ5elwN3W"
      },
      "source": [
        "**Vine Table Analysis**"
      ]
    },
    {
      "cell_type": "code",
      "metadata": {
        "colab": {
          "base_uri": "https://localhost:8080/"
        },
        "id": "Cw1yZ142wZPe",
        "outputId": "89c5117e-9c8b-4baa-fe2e-3351c45e9124"
      },
      "source": [
        "# Create the vine_table DataFrame\n",
        "vine_df = df.select([\"review_id\", \"star_rating\",\"helpful_votes\",\"total_votes\",\"vine\",\"verified_purchase\"]).drop_duplicates()\n",
        "vine_df.show(5,truncate=False)"
      ],
      "execution_count": null,
      "outputs": [
        {
          "output_type": "stream",
          "text": [
            "+--------------+-----------+-------------+-----------+----+-----------------+\n",
            "|review_id     |star_rating|helpful_votes|total_votes|vine|verified_purchase|\n",
            "+--------------+-----------+-------------+-----------+----+-----------------+\n",
            "|R2JH1KG23SL3BW|4          |0            |0          |N   |Y                |\n",
            "|R2D09ANI67HRV4|5          |0            |0          |N   |Y                |\n",
            "|R32COH1DZMMBJG|5          |0            |0          |N   |Y                |\n",
            "|RETW3NJ87V49W |5          |0            |0          |N   |Y                |\n",
            "|R2XZUHX2RTNLWS|4          |0            |0          |N   |Y                |\n",
            "+--------------+-----------+-------------+-----------+----+-----------------+\n",
            "only showing top 5 rows\n",
            "\n"
          ],
          "name": "stdout"
        }
      ]
    },
    {
      "cell_type": "code",
      "metadata": {
        "colab": {
          "base_uri": "https://localhost:8080/"
        },
        "id": "1e6xhnmUwnVJ",
        "outputId": "33c2ec23-c9d0-4e2d-e500-0c3077254496"
      },
      "source": [
        "#retrieve all the rows where the total_votes count is equal to or greater than 20 \n",
        "#count is equal to or greater than 20 to pick reviews that are more likely to be helpful and to avoid having division by zero errors later on\n",
        "total_votes_df = vine_df.filter(vine_df[\"total_votes\"] >= 20)\n",
        "total_votes_df.show(5,truncate=False)"
      ],
      "execution_count": null,
      "outputs": [
        {
          "output_type": "stream",
          "text": [
            "+--------------+-----------+-------------+-----------+----+-----------------+\n",
            "|review_id     |star_rating|helpful_votes|total_votes|vine|verified_purchase|\n",
            "+--------------+-----------+-------------+-----------+----+-----------------+\n",
            "|R1W4ITP3WWGU5H|1          |64           |77         |N   |Y                |\n",
            "|RRS50ZY3B8Z24 |5          |24           |24         |N   |Y                |\n",
            "|RGHBDOV2XGF5K |5          |60           |63         |N   |Y                |\n",
            "|R6Q3DQDE62XCL |5          |33           |33         |N   |Y                |\n",
            "|R3J9VFEGUJQUSX|5          |22           |23         |N   |Y                |\n",
            "+--------------+-----------+-------------+-----------+----+-----------------+\n",
            "only showing top 5 rows\n",
            "\n"
          ],
          "name": "stdout"
        }
      ]
    },
    {
      "cell_type": "code",
      "metadata": {
        "colab": {
          "base_uri": "https://localhost:8080/"
        },
        "id": "FLz0-7OAxCZN",
        "outputId": "0d6007df-963c-442f-aa38-5435f405bfe0"
      },
      "source": [
        "#retrieve all the rows where the number of helpful_votes divided by total_votes is equal to or greater than 50%.\n",
        "helpful_votes_df = total_votes_df.filter((total_votes_df[\"helpful_votes\"]/total_votes_df[\"total_votes\"]) >= 0.50)\n",
        "helpful_votes_df.show()"
      ],
      "execution_count": null,
      "outputs": [
        {
          "output_type": "stream",
          "text": [
            "+--------------+-----------+-------------+-----------+----+-----------------+\n",
            "|     review_id|star_rating|helpful_votes|total_votes|vine|verified_purchase|\n",
            "+--------------+-----------+-------------+-----------+----+-----------------+\n",
            "|R1W4ITP3WWGU5H|          1|           64|         77|   N|                Y|\n",
            "| RRS50ZY3B8Z24|          5|           24|         24|   N|                Y|\n",
            "| RGHBDOV2XGF5K|          5|           60|         63|   N|                Y|\n",
            "| R6Q3DQDE62XCL|          5|           33|         33|   N|                Y|\n",
            "|R3J9VFEGUJQUSX|          5|           22|         23|   N|                Y|\n",
            "|R2SRSGDA3HYMS6|          5|           44|         45|   N|                Y|\n",
            "|R1UHE5UT4IURRV|          1|           20|         20|   N|                Y|\n",
            "| RHW1BPAH18W44|          4|           21|         22|   N|                Y|\n",
            "|R1GKPJ0OBWVK6B|          5|           56|         59|   N|                Y|\n",
            "| RYA0Y970C626N|          5|           19|         22|   N|                Y|\n",
            "| RWEDGFANOTH8N|          4|           23|         24|   N|                Y|\n",
            "|R25J7VPU1PGRS5|          1|          205|        218|   N|                N|\n",
            "|R3FV3TKMFHDAZZ|          5|           32|         36|   N|                Y|\n",
            "| ROOQDGCFYJ3EJ|          1|           24|         27|   N|                Y|\n",
            "| RY68Q1XSO9AT1|          4|           18|         20|   N|                Y|\n",
            "|R1GUEMZYJ91HDT|          3|           48|         52|   N|                Y|\n",
            "|R3EKKI8JSY2AOY|          5|           23|         23|   N|                Y|\n",
            "|R336OJ547AP7L5|          5|           38|         41|   N|                Y|\n",
            "|R2IC4OJGJ60ZBA|          5|           26|         27|   N|                Y|\n",
            "|R1K4X0HJM0H7HX|          4|           32|         33|   Y|                N|\n",
            "+--------------+-----------+-------------+-----------+----+-----------------+\n",
            "only showing top 20 rows\n",
            "\n"
          ],
          "name": "stdout"
        }
      ]
    },
    {
      "cell_type": "code",
      "metadata": {
        "colab": {
          "base_uri": "https://localhost:8080/"
        },
        "id": "04ib0bdgyLgq",
        "outputId": "ca9bf837-9847-45a4-d01c-12e9a6753911"
      },
      "source": [
        "from pyspark.sql.functions import col\n",
        "#retrieves all the rows where a review was written as part of the Vine program (paid)\n",
        "paid_reviews_df = helpful_votes_df.filter(col(\"vine\") == 'Y')\n",
        "paid_reviews_df.show()"
      ],
      "execution_count": null,
      "outputs": [
        {
          "output_type": "stream",
          "text": [
            "+--------------+-----------+-------------+-----------+----+-----------------+\n",
            "|     review_id|star_rating|helpful_votes|total_votes|vine|verified_purchase|\n",
            "+--------------+-----------+-------------+-----------+----+-----------------+\n",
            "|R1K4X0HJM0H7HX|          4|           32|         33|   Y|                N|\n",
            "| REN3N1WITLF1Y|          5|           33|         37|   Y|                N|\n",
            "|R1DB74PJOC27NS|          4|          286|        321|   Y|                N|\n",
            "| RI4QLSZJRLB43|          5|           91|        110|   Y|                N|\n",
            "| RX3MGE1863YUZ|          4|           31|         32|   Y|                N|\n",
            "|R1VJNLH762PTGT|          5|           20|         22|   Y|                N|\n",
            "| RTF6DSZ1UTLHH|          5|          401|        418|   Y|                N|\n",
            "|R1GZ0OFP9ZO9KB|          5|           23|         29|   Y|                N|\n",
            "|R1ZP3IQ3VCZG2H|          5|           52|         55|   Y|                N|\n",
            "| RGNC5HFA9IZ5V|          5|           59|         63|   Y|                N|\n",
            "|R1V45RUW5ZB3LS|          4|           19|         21|   Y|                N|\n",
            "|R1KAB55F2LTQMJ|          3|           19|         21|   Y|                N|\n",
            "|R1PA7HPH6FM9X2|          5|           32|         36|   Y|                N|\n",
            "|R1PVOPQUK5I315|          5|          119|        133|   Y|                N|\n",
            "|R2XY64NYWXDG8U|          5|           39|         45|   Y|                N|\n",
            "|R39MWM7FVS4IT1|          4|           24|         24|   Y|                N|\n",
            "|R1BS9MY47B8LD7|          5|           32|         36|   Y|                N|\n",
            "|R1QWWCHU6GGC7C|          5|           45|         49|   Y|                N|\n",
            "|R3J9EJCVKFCRWO|          5|           18|         20|   Y|                N|\n",
            "|R24OZMI9SFIXIP|          5|           29|         31|   Y|                N|\n",
            "+--------------+-----------+-------------+-----------+----+-----------------+\n",
            "only showing top 20 rows\n",
            "\n"
          ],
          "name": "stdout"
        }
      ]
    },
    {
      "cell_type": "code",
      "metadata": {
        "colab": {
          "base_uri": "https://localhost:8080/"
        },
        "id": "cVdajloryrk5",
        "outputId": "b7bf46d2-74ce-4fca-b4da-023511c1f3b8"
      },
      "source": [
        "#retrieves all the rows where a review was not part of the Vine program (unpaid)\n",
        "unpaid_reviews_df = helpful_votes_df.filter(col(\"vine\") == 'N')\n",
        "unpaid_reviews_df.show()"
      ],
      "execution_count": null,
      "outputs": [
        {
          "output_type": "stream",
          "text": [
            "+--------------+-----------+-------------+-----------+----+-----------------+\n",
            "|     review_id|star_rating|helpful_votes|total_votes|vine|verified_purchase|\n",
            "+--------------+-----------+-------------+-----------+----+-----------------+\n",
            "|R1W4ITP3WWGU5H|          1|           64|         77|   N|                Y|\n",
            "| RRS50ZY3B8Z24|          5|           24|         24|   N|                Y|\n",
            "| RGHBDOV2XGF5K|          5|           60|         63|   N|                Y|\n",
            "| R6Q3DQDE62XCL|          5|           33|         33|   N|                Y|\n",
            "|R3J9VFEGUJQUSX|          5|           22|         23|   N|                Y|\n",
            "|R2SRSGDA3HYMS6|          5|           44|         45|   N|                Y|\n",
            "|R1UHE5UT4IURRV|          1|           20|         20|   N|                Y|\n",
            "| RHW1BPAH18W44|          4|           21|         22|   N|                Y|\n",
            "|R1GKPJ0OBWVK6B|          5|           56|         59|   N|                Y|\n",
            "| RYA0Y970C626N|          5|           19|         22|   N|                Y|\n",
            "| RWEDGFANOTH8N|          4|           23|         24|   N|                Y|\n",
            "|R25J7VPU1PGRS5|          1|          205|        218|   N|                N|\n",
            "|R3FV3TKMFHDAZZ|          5|           32|         36|   N|                Y|\n",
            "| ROOQDGCFYJ3EJ|          1|           24|         27|   N|                Y|\n",
            "| RY68Q1XSO9AT1|          4|           18|         20|   N|                Y|\n",
            "|R1GUEMZYJ91HDT|          3|           48|         52|   N|                Y|\n",
            "|R3EKKI8JSY2AOY|          5|           23|         23|   N|                Y|\n",
            "|R336OJ547AP7L5|          5|           38|         41|   N|                Y|\n",
            "|R2IC4OJGJ60ZBA|          5|           26|         27|   N|                Y|\n",
            "|R2EJYCX9T4FEA5|          3|           23|         28|   N|                Y|\n",
            "+--------------+-----------+-------------+-----------+----+-----------------+\n",
            "only showing top 20 rows\n",
            "\n"
          ],
          "name": "stdout"
        }
      ]
    },
    {
      "cell_type": "code",
      "metadata": {
        "colab": {
          "base_uri": "https://localhost:8080/"
        },
        "id": "C_mP5cruzjTY",
        "outputId": "37daaab7-90c6-46aa-a072-c225549f3ee0"
      },
      "source": [
        "#five-star reviews\n",
        "five_star_df = helpful_votes_df.filter(col(\"star_rating\") == '5')\n",
        "five_star_count = five_star_df.count()\n",
        "five_star_df.show()\n"
      ],
      "execution_count": null,
      "outputs": [
        {
          "output_type": "stream",
          "text": [
            "+--------------+-----------+-------------+-----------+----+-----------------+\n",
            "|     review_id|star_rating|helpful_votes|total_votes|vine|verified_purchase|\n",
            "+--------------+-----------+-------------+-----------+----+-----------------+\n",
            "| RRS50ZY3B8Z24|          5|           24|         24|   N|                Y|\n",
            "| RGHBDOV2XGF5K|          5|           60|         63|   N|                Y|\n",
            "| R6Q3DQDE62XCL|          5|           33|         33|   N|                Y|\n",
            "|R3J9VFEGUJQUSX|          5|           22|         23|   N|                Y|\n",
            "|R2SRSGDA3HYMS6|          5|           44|         45|   N|                Y|\n",
            "|R1GKPJ0OBWVK6B|          5|           56|         59|   N|                Y|\n",
            "| RYA0Y970C626N|          5|           19|         22|   N|                Y|\n",
            "|R3FV3TKMFHDAZZ|          5|           32|         36|   N|                Y|\n",
            "|R3EKKI8JSY2AOY|          5|           23|         23|   N|                Y|\n",
            "|R336OJ547AP7L5|          5|           38|         41|   N|                Y|\n",
            "|R2IC4OJGJ60ZBA|          5|           26|         27|   N|                Y|\n",
            "|R2XYL7YPQLWNE3|          5|          115|        125|   N|                Y|\n",
            "|R13BXWY7WBEJM8|          5|           31|         33|   N|                Y|\n",
            "| R3WJTRPBAF9C6|          5|           35|         39|   N|                Y|\n",
            "|R1TZHT7N4TZKU1|          5|          934|       1038|   N|                Y|\n",
            "|R2BCES0HXK9GSN|          5|           30|         32|   N|                Y|\n",
            "|R1QNBHOXTNBVHC|          5|           31|         33|   N|                Y|\n",
            "|R1YS18E63S2KEQ|          5|           26|         26|   N|                Y|\n",
            "|R1S2ZW71VQZ2HH|          5|           19|         20|   N|                Y|\n",
            "|R1LKXHTUITLCAW|          5|          223|        231|   N|                Y|\n",
            "+--------------+-----------+-------------+-----------+----+-----------------+\n",
            "only showing top 20 rows\n",
            "\n"
          ],
          "name": "stdout"
        }
      ]
    },
    {
      "cell_type": "code",
      "metadata": {
        "colab": {
          "base_uri": "https://localhost:8080/"
        },
        "id": "2piocjeLz_0m",
        "outputId": "918ce4ea-2726-4580-8b57-bb2e445d1a90"
      },
      "source": [
        "#paid five star reviews\n",
        "paid_five_star_df = paid_reviews_df.filter(col(\"star_rating\") == '5')\n",
        "paid_five_star_count = paid_five_star_df.count()\n",
        "paid_five_star_df.show()"
      ],
      "execution_count": null,
      "outputs": [
        {
          "output_type": "stream",
          "text": [
            "+--------------+-----------+-------------+-----------+----+-----------------+\n",
            "|     review_id|star_rating|helpful_votes|total_votes|vine|verified_purchase|\n",
            "+--------------+-----------+-------------+-----------+----+-----------------+\n",
            "| REN3N1WITLF1Y|          5|           33|         37|   Y|                N|\n",
            "| RI4QLSZJRLB43|          5|           91|        110|   Y|                N|\n",
            "|R1VJNLH762PTGT|          5|           20|         22|   Y|                N|\n",
            "| RTF6DSZ1UTLHH|          5|          401|        418|   Y|                N|\n",
            "|R1GZ0OFP9ZO9KB|          5|           23|         29|   Y|                N|\n",
            "|R1ZP3IQ3VCZG2H|          5|           52|         55|   Y|                N|\n",
            "| RGNC5HFA9IZ5V|          5|           59|         63|   Y|                N|\n",
            "|R1PA7HPH6FM9X2|          5|           32|         36|   Y|                N|\n",
            "|R1PVOPQUK5I315|          5|          119|        133|   Y|                N|\n",
            "|R2XY64NYWXDG8U|          5|           39|         45|   Y|                N|\n",
            "|R1BS9MY47B8LD7|          5|           32|         36|   Y|                N|\n",
            "|R1QWWCHU6GGC7C|          5|           45|         49|   Y|                N|\n",
            "|R3J9EJCVKFCRWO|          5|           18|         20|   Y|                N|\n",
            "|R24OZMI9SFIXIP|          5|           29|         31|   Y|                N|\n",
            "| ROQJY77LZWG9P|          5|           16|         20|   Y|                N|\n",
            "|R2V226KVUKWQKX|          5|           37|         44|   Y|                N|\n",
            "|R2P6XIZZPJF7AE|          5|           46|         51|   Y|                N|\n",
            "|R3D8WKV1JY92I8|          5|          253|        267|   Y|                N|\n",
            "|R1RTMU5SYOXS39|          5|           34|         39|   Y|                N|\n",
            "|R1W8R3PN62UYLO|          5|           25|         25|   Y|                N|\n",
            "+--------------+-----------+-------------+-----------+----+-----------------+\n",
            "only showing top 20 rows\n",
            "\n"
          ],
          "name": "stdout"
        }
      ]
    },
    {
      "cell_type": "code",
      "metadata": {
        "colab": {
          "base_uri": "https://localhost:8080/"
        },
        "id": "BJOpUOmX0ZjY",
        "outputId": "fc959e81-8c4d-4189-c2d8-4add29123f15"
      },
      "source": [
        "#unpaid five star reviews\n",
        "unpaid_five_star_df = unpaid_reviews_df.filter(col(\"star_rating\") == '5')\n",
        "unpaid_five_star_count = unpaid_five_star_df.count()\n",
        "unpaid_five_star_df.show()"
      ],
      "execution_count": null,
      "outputs": [
        {
          "output_type": "stream",
          "text": [
            "+--------------+-----------+-------------+-----------+----+-----------------+\n",
            "|     review_id|star_rating|helpful_votes|total_votes|vine|verified_purchase|\n",
            "+--------------+-----------+-------------+-----------+----+-----------------+\n",
            "| RRS50ZY3B8Z24|          5|           24|         24|   N|                Y|\n",
            "| RGHBDOV2XGF5K|          5|           60|         63|   N|                Y|\n",
            "| R6Q3DQDE62XCL|          5|           33|         33|   N|                Y|\n",
            "|R3J9VFEGUJQUSX|          5|           22|         23|   N|                Y|\n",
            "|R2SRSGDA3HYMS6|          5|           44|         45|   N|                Y|\n",
            "|R1GKPJ0OBWVK6B|          5|           56|         59|   N|                Y|\n",
            "| RYA0Y970C626N|          5|           19|         22|   N|                Y|\n",
            "|R3FV3TKMFHDAZZ|          5|           32|         36|   N|                Y|\n",
            "|R3EKKI8JSY2AOY|          5|           23|         23|   N|                Y|\n",
            "|R336OJ547AP7L5|          5|           38|         41|   N|                Y|\n",
            "|R2IC4OJGJ60ZBA|          5|           26|         27|   N|                Y|\n",
            "|R2XYL7YPQLWNE3|          5|          115|        125|   N|                Y|\n",
            "|R13BXWY7WBEJM8|          5|           31|         33|   N|                Y|\n",
            "| R3WJTRPBAF9C6|          5|           35|         39|   N|                Y|\n",
            "|R1TZHT7N4TZKU1|          5|          934|       1038|   N|                Y|\n",
            "|R2BCES0HXK9GSN|          5|           30|         32|   N|                Y|\n",
            "|R1QNBHOXTNBVHC|          5|           31|         33|   N|                Y|\n",
            "|R1YS18E63S2KEQ|          5|           26|         26|   N|                Y|\n",
            "|R1S2ZW71VQZ2HH|          5|           19|         20|   N|                Y|\n",
            "|R1LKXHTUITLCAW|          5|          223|        231|   N|                Y|\n",
            "+--------------+-----------+-------------+-----------+----+-----------------+\n",
            "only showing top 20 rows\n",
            "\n"
          ],
          "name": "stdout"
        }
      ]
    },
    {
      "cell_type": "code",
      "metadata": {
        "colab": {
          "base_uri": "https://localhost:8080/"
        },
        "id": "sqH_tyVy0qNA",
        "outputId": "e61cd86c-37ab-4a4e-cf59-5529ea1ce64c"
      },
      "source": [
        "#get count of total reviews \n",
        "helpful_votes_count = helpful_votes_df.count()\n",
        "helpful_votes_count"
      ],
      "execution_count": null,
      "outputs": [
        {
          "output_type": "execute_result",
          "data": {
            "text/plain": [
              "18155"
            ]
          },
          "metadata": {
            "tags": []
          },
          "execution_count": 37
        }
      ]
    },
    {
      "cell_type": "code",
      "metadata": {
        "colab": {
          "base_uri": "https://localhost:8080/"
        },
        "id": "tL22COT51HOB",
        "outputId": "1f77527a-92e8-4963-d01e-97dfcfd85c34"
      },
      "source": [
        "#5 start reviews compared to total reviews\n",
        "five_star_perc = five_star_count/helpful_votes_count\n",
        "round(five_star_perc,2)"
      ],
      "execution_count": null,
      "outputs": [
        {
          "output_type": "execute_result",
          "data": {
            "text/plain": [
              "0.47"
            ]
          },
          "metadata": {
            "tags": []
          },
          "execution_count": 38
        }
      ]
    },
    {
      "cell_type": "code",
      "metadata": {
        "colab": {
          "base_uri": "https://localhost:8080/"
        },
        "id": "FH0RgGz_1hGa",
        "outputId": "cbbd09ef-69b9-40f7-b0b9-ec7d95e07d12"
      },
      "source": [
        "#paid 5 star count perc\n",
        "paid_five_star_perc = paid_five_star_count/five_star_count\n",
        "round(paid_five_star_perc,2)"
      ],
      "execution_count": null,
      "outputs": [
        {
          "output_type": "execute_result",
          "data": {
            "text/plain": [
              "0.01"
            ]
          },
          "metadata": {
            "tags": []
          },
          "execution_count": 39
        }
      ]
    },
    {
      "cell_type": "code",
      "metadata": {
        "colab": {
          "base_uri": "https://localhost:8080/"
        },
        "id": "-VuyvzQJ18_i",
        "outputId": "31b6f464-88f0-47d3-856a-b81396a4aad3"
      },
      "source": [
        "#unpaid 5 star count perc\n",
        "unpaid_five_star_perc = unpaid_five_star_count/five_star_count\n",
        "round(unpaid_five_star_perc,2)"
      ],
      "execution_count": null,
      "outputs": [
        {
          "output_type": "execute_result",
          "data": {
            "text/plain": [
              "0.99"
            ]
          },
          "metadata": {
            "tags": []
          },
          "execution_count": 40
        }
      ]
    },
    {
      "cell_type": "code",
      "metadata": {
        "colab": {
          "base_uri": "https://localhost:8080/"
        },
        "id": "M74gBLv82LaB",
        "outputId": "4cbe4874-4eaf-44bd-d95d-b58069d4ee7e"
      },
      "source": [
        "print(f\"Out of tht total {helpful_votes_count} helpful votes, {five_star_count} were Five Star Reviews.\")\n",
        "print(f\"And out of this only {paid_five_star_count} were Paid reviews, i.e, {round(paid_five_star_perc,2)}%, and the rest {unpaid_five_star_count} were Unpaid, i.e, {round(unpaid_five_star_perc,2)}% votes.\")\n"
      ],
      "execution_count": null,
      "outputs": [
        {
          "output_type": "stream",
          "text": [
            "Out of tht total 18155 helpful votes, 8556 were Five Star Reviews.\n",
            "And out of this only 74 were Paid reviews, i.e, 0.01%, and the rest 8482 were Unpaid, i.e, 0.99% votes.\n"
          ],
          "name": "stdout"
        }
      ]
    }
  ]
}